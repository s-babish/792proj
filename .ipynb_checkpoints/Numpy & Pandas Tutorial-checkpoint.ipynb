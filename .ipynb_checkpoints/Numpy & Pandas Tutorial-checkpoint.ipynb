{
 "cells": [
  {
   "cell_type": "markdown",
   "id": "9bd04f19",
   "metadata": {},
   "source": [
    "# Numpy Basics"
   ]
  },
  {
   "cell_type": "markdown",
   "id": "172cdad5",
   "metadata": {},
   "source": [
    "## Creating Arrays"
   ]
  },
  {
   "cell_type": "code",
   "execution_count": null,
   "id": "d9320ba6",
   "metadata": {},
   "outputs": [],
   "source": []
  },
  {
   "cell_type": "markdown",
   "id": "a1c6cd40",
   "metadata": {},
   "source": [
    "### Aside: Data types in Numpy"
   ]
  },
  {
   "cell_type": "markdown",
   "id": "bd75bfc9",
   "metadata": {},
   "source": [
    "## Copying vs Viewing"
   ]
  },
  {
   "cell_type": "markdown",
   "id": "c2b71947",
   "metadata": {},
   "source": [
    "## Joining and Splitting"
   ]
  },
  {
   "cell_type": "markdown",
   "id": "b1b4a3ba",
   "metadata": {},
   "source": [
    "## Searching and Filtering"
   ]
  }
 ],
 "metadata": {
  "kernelspec": {
   "display_name": "Python 3 (ipykernel)",
   "language": "python",
   "name": "python3"
  },
  "language_info": {
   "codemirror_mode": {
    "name": "ipython",
    "version": 3
   },
   "file_extension": ".py",
   "mimetype": "text/x-python",
   "name": "python",
   "nbconvert_exporter": "python",
   "pygments_lexer": "ipython3",
   "version": "3.11.5"
  }
 },
 "nbformat": 4,
 "nbformat_minor": 5
}
